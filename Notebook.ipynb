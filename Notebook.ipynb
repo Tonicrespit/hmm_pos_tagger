{
 "cells": [
  {
   "cell_type": "markdown",
   "metadata": {},
   "source": [
    "# Test and results."
   ]
  },
  {
   "cell_type": "code",
   "execution_count": 1,
   "metadata": {},
   "outputs": [],
   "source": [
    "from markovify.HMM import HMM\n",
    "from markovify.ViterbiDecoder import ViterbiDecoder\n",
    "\n",
    "from nltk.corpus import brown\n",
    "from math import ceil, floor\n",
    "\n",
    "import pandas as pd\n",
    "import numpy as np"
   ]
  },
  {
   "cell_type": "code",
   "execution_count": null,
   "metadata": {},
   "outputs": [],
   "source": [
    "## Just a progress bar to know how a loop is progressing\n",
    "## Code not related to the project.\n",
    "## All credit to https://github.com/alexanderkuk/log-progress\n",
    "def log_progress(sequence, every=None, size=None, name='Items'):\n",
    "    from ipywidgets import IntProgress, HTML, VBox\n",
    "    from IPython.display import display\n",
    "\n",
    "    is_iterator = False\n",
    "    if size is None:\n",
    "        try:\n",
    "            size = len(sequence)\n",
    "        except TypeError:\n",
    "            is_iterator = True\n",
    "    if size is not None:\n",
    "        if every is None:\n",
    "            if size <= 200:\n",
    "                every = 1\n",
    "            else:\n",
    "                every = int(size / 200)     # every 0.5%\n",
    "    else:\n",
    "        assert every is not None, 'sequence is iterator, set every'\n",
    "\n",
    "    if is_iterator:\n",
    "        progress = IntProgress(min=0, max=1, value=1)\n",
    "        progress.bar_style = 'info'\n",
    "    else:\n",
    "        progress = IntProgress(min=0, max=size, value=0)\n",
    "    label = HTML()\n",
    "    box = VBox(children=[label, progress])\n",
    "    display(box)\n",
    "\n",
    "    index = 0\n",
    "    try:\n",
    "        for index, record in enumerate(sequence, 1):\n",
    "            if index == 1 or index % every == 0:\n",
    "                if is_iterator:\n",
    "                    label.value = '{name}: {index} / ?'.format(\n",
    "                        name=name,\n",
    "                        index=index\n",
    "                    )\n",
    "                else:\n",
    "                    progress.value = index\n",
    "                    label.value = u'{name}: {index} / {size}'.format(\n",
    "                        name=name,\n",
    "                        index=index,\n",
    "                        size=size\n",
    "                    )\n",
    "            yield record\n",
    "    except:\n",
    "        progress.bar_style = 'danger'\n",
    "        raise\n",
    "    else:\n",
    "        progress.bar_style = 'success'\n",
    "        progress.value = index\n",
    "        label.value = \"{name}: {index}\".format(\n",
    "            name=name,\n",
    "            index=str(index or '?')\n",
    "        )"
   ]
  },
  {
   "cell_type": "markdown",
   "metadata": {},
   "source": [
    "# Accuracy for news text."
   ]
  },
  {
   "cell_type": "code",
   "execution_count": 8,
   "metadata": {},
   "outputs": [
    {
     "name": "stdout",
     "output_type": "stream",
     "text": [
      "4160\n",
      "463\n"
     ]
    }
   ],
   "source": [
    "corpus_tagged = brown.tagged_sents(categories='news', tagset='universal')\n",
    "corpus_raw = brown.sents(categories='news')\n",
    "size = len(corpus_tagged)\n",
    "\n",
    "corpus_train = corpus_tagged[:floor(size*9/10)]\n",
    "corpus_test_tagged = corpus_tagged[floor(size*9/10):]\n",
    "corpus_test = corpus_raw[floor(size*9/10):]\n",
    "\n",
    "print(len(corpus_train))\n",
    "print(len(corpus_test))"
   ]
  },
  {
   "cell_type": "code",
   "execution_count": 6,
   "metadata": {},
   "outputs": [
    {
     "name": "stdout",
     "output_type": "stream",
     "text": [
      "      <s>       DET      NOUN       ADJ      VERB       ADP         .  \\\n",
      "<s>   0.0  0.097158  0.040371  0.027597  0.012128  0.034436  0.035664   \n",
      "DET   0.0  0.004882  0.237429  0.404081  0.042024  0.007321  0.009316   \n",
      "NOUN  0.0  0.033493  0.265166  0.080615  0.290537  0.532719  0.648349   \n",
      "ADJ   0.0  0.002441  0.152106  0.062887  0.007493  0.038594  0.034441   \n",
      "VERB  0.0  0.228200  0.059268  0.106540  0.204480  0.203543  0.077162   \n",
      "ADP   0.0  0.478859  0.120898  0.138317  0.032368  0.017082  0.008563   \n",
      ".     0.0  0.077336  0.054901  0.047332  0.071765  0.061009  0.082432   \n",
      "<e>   0.0  0.000000  0.000000  0.000000  0.000000  0.000000  0.000000   \n",
      "ADV   0.0  0.023045  0.005905  0.059207  0.061954  0.042390  0.035382   \n",
      "CONJ  0.0  0.034860  0.030421  0.042315  0.032986  0.011750  0.003576   \n",
      "PRT   0.0  0.015428  0.002863  0.005519  0.100734  0.018348  0.007904   \n",
      "PRON  0.0  0.002929  0.000608  0.003345  0.136346  0.009671  0.013833   \n",
      "NUM   0.0  0.001367  0.029705  0.022245  0.007030  0.022686  0.042157   \n",
      "X     0.0  0.000000  0.000358  0.000000  0.000154  0.000452  0.001223   \n",
      "\n",
      "           <e>       ADV      CONJ       PRT      PRON       NUM         X  \n",
      "<s>   0.000000  0.075799  0.058436  0.056084  0.174308  0.036999  0.028571  \n",
      "DET   0.000721  0.045207  0.000823  0.008513  0.024654  0.099848  0.114286  \n",
      "NOUN  0.039663  0.191706  0.551440  0.229344  0.144464  0.148505  0.114286  \n",
      "ADJ   0.003125  0.010877  0.066667  0.048072  0.006920  0.059807  0.014286  \n",
      "VERB  0.012740  0.314752  0.051029  0.426139  0.178633  0.115560  0.014286  \n",
      "ADP   0.000240  0.039769  0.004938  0.047571  0.160467  0.332995  0.042857  \n",
      ".     0.934135  0.110129  0.204115  0.074612  0.201125  0.106944  0.100000  \n",
      "<e>   0.000000  0.000000  0.000000  0.000000  0.000000  0.000000  0.000000  \n",
      "ADV   0.002163  0.073080  0.020988  0.039559  0.051038  0.034465  0.000000  \n",
      "CONJ  0.000000  0.046907  0.000000  0.029544  0.044983  0.036999  0.014286  \n",
      "PRT   0.000481  0.023453  0.006173  0.010015  0.002163  0.012164  0.000000  \n",
      "PRON  0.000000  0.044188  0.011523  0.024036  0.007353  0.001521  0.000000  \n",
      "NUM   0.006731  0.024133  0.023868  0.006009  0.003893  0.014192  0.000000  \n",
      "X     0.000000  0.000000  0.000000  0.000501  0.000000  0.000000  0.557143  \n"
     ]
    }
   ],
   "source": [
    "model = HMM()\n",
    "model.train(corpus_train)\n",
    "#print(model._a)\n",
    "#print(model.b)\n",
    "\n",
    "decoder = ViterbiDecoder(model)"
   ]
  },
  {
   "cell_type": "code",
   "execution_count": 13,
   "metadata": {},
   "outputs": [
    {
     "data": {
      "text/html": [
       "<div>\n",
       "<style scoped>\n",
       "    .dataframe tbody tr th:only-of-type {\n",
       "        vertical-align: middle;\n",
       "    }\n",
       "\n",
       "    .dataframe tbody tr th {\n",
       "        vertical-align: top;\n",
       "    }\n",
       "\n",
       "    .dataframe thead th {\n",
       "        text-align: right;\n",
       "    }\n",
       "</style>\n",
       "<table border=\"1\" class=\"dataframe\">\n",
       "  <thead>\n",
       "    <tr style=\"text-align: right;\">\n",
       "      <th></th>\n",
       "      <th>Word</th>\n",
       "      <th>Tag</th>\n",
       "    </tr>\n",
       "  </thead>\n",
       "  <tbody>\n",
       "    <tr>\n",
       "      <th>0</th>\n",
       "      <td>But</td>\n",
       "      <td>CONJ</td>\n",
       "    </tr>\n",
       "    <tr>\n",
       "      <th>1</th>\n",
       "      <td>in</td>\n",
       "      <td>ADP</td>\n",
       "    </tr>\n",
       "    <tr>\n",
       "      <th>2</th>\n",
       "      <td>all</td>\n",
       "      <td>PRT</td>\n",
       "    </tr>\n",
       "    <tr>\n",
       "      <th>3</th>\n",
       "      <td>its</td>\n",
       "      <td>DET</td>\n",
       "    </tr>\n",
       "    <tr>\n",
       "      <th>4</th>\n",
       "      <td>175</td>\n",
       "      <td>NUM</td>\n",
       "    </tr>\n",
       "    <tr>\n",
       "      <th>5</th>\n",
       "      <td>years</td>\n",
       "      <td>NOUN</td>\n",
       "    </tr>\n",
       "    <tr>\n",
       "      <th>6</th>\n",
       "      <td>,</td>\n",
       "      <td>.</td>\n",
       "    </tr>\n",
       "    <tr>\n",
       "      <th>7</th>\n",
       "      <td>not</td>\n",
       "      <td>ADV</td>\n",
       "    </tr>\n",
       "    <tr>\n",
       "      <th>8</th>\n",
       "      <td>a</td>\n",
       "      <td>DET</td>\n",
       "    </tr>\n",
       "    <tr>\n",
       "      <th>9</th>\n",
       "      <td>single</td>\n",
       "      <td>ADJ</td>\n",
       "    </tr>\n",
       "  </tbody>\n",
       "</table>\n",
       "</div>"
      ],
      "text/plain": [
       "     Word   Tag\n",
       "0     But  CONJ\n",
       "1      in   ADP\n",
       "2     all   PRT\n",
       "3     its   DET\n",
       "4     175   NUM\n",
       "5   years  NOUN\n",
       "6       ,     .\n",
       "7     not   ADV\n",
       "8       a   DET\n",
       "9  single   ADJ"
      ]
     },
     "execution_count": 13,
     "metadata": {},
     "output_type": "execute_result"
    }
   ],
   "source": [
    "flat_list = [item for sublist in corpus_test_tagged for item in sublist]\n",
    "\n",
    "results = pd.DataFrame.from_records(flat_list)\n",
    "results.columns = [\"Word\", \"Tag\"]\n",
    "results.head(10)"
   ]
  },
  {
   "cell_type": "code",
   "execution_count": 11,
   "metadata": {},
   "outputs": [
    {
     "data": {
      "application/vnd.jupyter.widget-view+json": {
       "model_id": "77c119f4e90046b7aaf506a9a86fbd9f",
       "version_major": 2,
       "version_minor": 0
      },
      "text/plain": [
       "VBox(children=(HTML(value=''), IntProgress(value=0, max=463)))"
      ]
     },
     "metadata": {},
     "output_type": "display_data"
    }
   ],
   "source": [
    "tagged = []\n",
    "for sent in log_progress(corpus_test, every=1):\n",
    "    tagged.append(decoder.viterbi(sent))"
   ]
  },
  {
   "cell_type": "code",
   "execution_count": 15,
   "metadata": {},
   "outputs": [
    {
     "data": {
      "text/html": [
       "<div>\n",
       "<style scoped>\n",
       "    .dataframe tbody tr th:only-of-type {\n",
       "        vertical-align: middle;\n",
       "    }\n",
       "\n",
       "    .dataframe tbody tr th {\n",
       "        vertical-align: top;\n",
       "    }\n",
       "\n",
       "    .dataframe thead th {\n",
       "        text-align: right;\n",
       "    }\n",
       "</style>\n",
       "<table border=\"1\" class=\"dataframe\">\n",
       "  <thead>\n",
       "    <tr style=\"text-align: right;\">\n",
       "      <th></th>\n",
       "      <th>Word</th>\n",
       "      <th>Tag</th>\n",
       "      <th>Predicted</th>\n",
       "    </tr>\n",
       "  </thead>\n",
       "  <tbody>\n",
       "    <tr>\n",
       "      <th>0</th>\n",
       "      <td>But</td>\n",
       "      <td>CONJ</td>\n",
       "      <td>CONJ</td>\n",
       "    </tr>\n",
       "    <tr>\n",
       "      <th>1</th>\n",
       "      <td>in</td>\n",
       "      <td>ADP</td>\n",
       "      <td>ADP</td>\n",
       "    </tr>\n",
       "    <tr>\n",
       "      <th>2</th>\n",
       "      <td>all</td>\n",
       "      <td>PRT</td>\n",
       "      <td>PRT</td>\n",
       "    </tr>\n",
       "    <tr>\n",
       "      <th>3</th>\n",
       "      <td>its</td>\n",
       "      <td>DET</td>\n",
       "      <td>DET</td>\n",
       "    </tr>\n",
       "    <tr>\n",
       "      <th>4</th>\n",
       "      <td>175</td>\n",
       "      <td>NUM</td>\n",
       "      <td>NOUN</td>\n",
       "    </tr>\n",
       "    <tr>\n",
       "      <th>5</th>\n",
       "      <td>years</td>\n",
       "      <td>NOUN</td>\n",
       "      <td>NOUN</td>\n",
       "    </tr>\n",
       "    <tr>\n",
       "      <th>6</th>\n",
       "      <td>,</td>\n",
       "      <td>.</td>\n",
       "      <td>.</td>\n",
       "    </tr>\n",
       "    <tr>\n",
       "      <th>7</th>\n",
       "      <td>not</td>\n",
       "      <td>ADV</td>\n",
       "      <td>ADV</td>\n",
       "    </tr>\n",
       "    <tr>\n",
       "      <th>8</th>\n",
       "      <td>a</td>\n",
       "      <td>DET</td>\n",
       "      <td>DET</td>\n",
       "    </tr>\n",
       "    <tr>\n",
       "      <th>9</th>\n",
       "      <td>single</td>\n",
       "      <td>ADJ</td>\n",
       "      <td>ADJ</td>\n",
       "    </tr>\n",
       "  </tbody>\n",
       "</table>\n",
       "</div>"
      ],
      "text/plain": [
       "     Word   Tag Predicted\n",
       "0     But  CONJ      CONJ\n",
       "1      in   ADP       ADP\n",
       "2     all   PRT       PRT\n",
       "3     its   DET       DET\n",
       "4     175   NUM      NOUN\n",
       "5   years  NOUN      NOUN\n",
       "6       ,     .         .\n",
       "7     not   ADV       ADV\n",
       "8       a   DET       DET\n",
       "9  single   ADJ       ADJ"
      ]
     },
     "execution_count": 15,
     "metadata": {},
     "output_type": "execute_result"
    }
   ],
   "source": [
    "flat_list = [item for sublist in tagged for item in sublist]\n",
    "\n",
    "results['Predicted'] = flat_list\n",
    "results.head(10)"
   ]
  },
  {
   "cell_type": "code",
   "execution_count": 23,
   "metadata": {},
   "outputs": [],
   "source": [
    "correct = 0\n",
    "for index, row in results.iterrows():\n",
    "    if row[1] == row[2]:\n",
    "        correct += 1\n",
    "brown_news_accuracy = correct / results.shape[0]\n",
    "print(brown_news_accuracy)"
   ]
  },
  {
   "cell_type": "markdown",
   "metadata": {},
   "source": [
    "# Accuracy for news text training the model using an adventures book."
   ]
  },
  {
   "cell_type": "code",
   "execution_count": 24,
   "metadata": {},
   "outputs": [
    {
     "name": "stdout",
     "output_type": "stream",
     "text": [
      "4173\n",
      "463\n"
     ]
    }
   ],
   "source": [
    "corpus_tagged = brown.tagged_sents(categories='adventure', tagset='universal')\n",
    "corpus_test_tagged = brown.tagged_sents(categories='news', tagset='universal')\n",
    "corpus_test_raw = brown.sents(categories='news')\n",
    "\n",
    "size = len(corpus_tagged)\n",
    "\n",
    "corpus_train = corpus_tagged[:floor(size*9/10)]\n",
    "corpus_test_tagged = corpus_test_tagged[:floor(size*1/10)]\n",
    "corpus_test = corpus_test_raw[:floor(size*1/10)]\n",
    "\n",
    "print(len(corpus_train))\n",
    "print(len(corpus_test))"
   ]
  },
  {
   "cell_type": "code",
   "execution_count": 25,
   "metadata": {},
   "outputs": [
    {
     "data": {
      "application/vnd.jupyter.widget-view+json": {
       "model_id": "f7a4c556cc7d4725ad3bf982f3fdb2b2",
       "version_major": 2,
       "version_minor": 0
      },
      "text/plain": [
       "VBox(children=(HTML(value=''), IntProgress(value=0, max=463)))"
      ]
     },
     "metadata": {},
     "output_type": "display_data"
    }
   ],
   "source": [
    "model = HMM()\n",
    "model.train(corpus_train)\n",
    "\n",
    "decoder = ViterbiDecoder(model)\n",
    "\n",
    "tagged = []\n",
    "for sent in log_progress(corpus_test, every=1):\n",
    "    tagged.append(decoder.viterbi(sent))"
   ]
  },
  {
   "cell_type": "code",
   "execution_count": 26,
   "metadata": {},
   "outputs": [
    {
     "data": {
      "text/html": [
       "<div>\n",
       "<style scoped>\n",
       "    .dataframe tbody tr th:only-of-type {\n",
       "        vertical-align: middle;\n",
       "    }\n",
       "\n",
       "    .dataframe tbody tr th {\n",
       "        vertical-align: top;\n",
       "    }\n",
       "\n",
       "    .dataframe thead th {\n",
       "        text-align: right;\n",
       "    }\n",
       "</style>\n",
       "<table border=\"1\" class=\"dataframe\">\n",
       "  <thead>\n",
       "    <tr style=\"text-align: right;\">\n",
       "      <th></th>\n",
       "      <th>Word</th>\n",
       "      <th>Tag</th>\n",
       "      <th>Predicted</th>\n",
       "    </tr>\n",
       "  </thead>\n",
       "  <tbody>\n",
       "    <tr>\n",
       "      <th>0</th>\n",
       "      <td>The</td>\n",
       "      <td>DET</td>\n",
       "      <td>DET</td>\n",
       "    </tr>\n",
       "    <tr>\n",
       "      <th>1</th>\n",
       "      <td>Fulton</td>\n",
       "      <td>NOUN</td>\n",
       "      <td>ADJ</td>\n",
       "    </tr>\n",
       "    <tr>\n",
       "      <th>2</th>\n",
       "      <td>County</td>\n",
       "      <td>NOUN</td>\n",
       "      <td>NOUN</td>\n",
       "    </tr>\n",
       "    <tr>\n",
       "      <th>3</th>\n",
       "      <td>Grand</td>\n",
       "      <td>ADJ</td>\n",
       "      <td>ADP</td>\n",
       "    </tr>\n",
       "    <tr>\n",
       "      <th>4</th>\n",
       "      <td>Jury</td>\n",
       "      <td>NOUN</td>\n",
       "      <td>NOUN</td>\n",
       "    </tr>\n",
       "    <tr>\n",
       "      <th>5</th>\n",
       "      <td>said</td>\n",
       "      <td>VERB</td>\n",
       "      <td>VERB</td>\n",
       "    </tr>\n",
       "    <tr>\n",
       "      <th>6</th>\n",
       "      <td>Friday</td>\n",
       "      <td>NOUN</td>\n",
       "      <td>ADP</td>\n",
       "    </tr>\n",
       "    <tr>\n",
       "      <th>7</th>\n",
       "      <td>an</td>\n",
       "      <td>DET</td>\n",
       "      <td>DET</td>\n",
       "    </tr>\n",
       "    <tr>\n",
       "      <th>8</th>\n",
       "      <td>investigation</td>\n",
       "      <td>NOUN</td>\n",
       "      <td>NOUN</td>\n",
       "    </tr>\n",
       "    <tr>\n",
       "      <th>9</th>\n",
       "      <td>of</td>\n",
       "      <td>ADP</td>\n",
       "      <td>ADP</td>\n",
       "    </tr>\n",
       "  </tbody>\n",
       "</table>\n",
       "</div>"
      ],
      "text/plain": [
       "            Word   Tag Predicted\n",
       "0            The   DET       DET\n",
       "1         Fulton  NOUN       ADJ\n",
       "2         County  NOUN      NOUN\n",
       "3          Grand   ADJ       ADP\n",
       "4           Jury  NOUN      NOUN\n",
       "5           said  VERB      VERB\n",
       "6         Friday  NOUN       ADP\n",
       "7             an   DET       DET\n",
       "8  investigation  NOUN      NOUN\n",
       "9             of   ADP       ADP"
      ]
     },
     "execution_count": 26,
     "metadata": {},
     "output_type": "execute_result"
    }
   ],
   "source": [
    "flat_list = [item for sublist in corpus_test_tagged for item in sublist]\n",
    "\n",
    "results = pd.DataFrame.from_records(flat_list)\n",
    "results.columns = [\"Word\", \"Tag\"]\n",
    "\n",
    "flat_list = [item for sublist in tagged for item in sublist]\n",
    "\n",
    "results['Predicted'] = flat_list\n",
    "results.head(10)"
   ]
  },
  {
   "cell_type": "code",
   "execution_count": 27,
   "metadata": {},
   "outputs": [
    {
     "name": "stdout",
     "output_type": "stream",
     "text": [
      "0.8097132284921369\n"
     ]
    }
   ],
   "source": [
    "correct = 0\n",
    "for index, row in results.iterrows():\n",
    "    if row[1] == row[2]:\n",
    "        correct += 1\n",
    "brown_news_adventures_accuracy = correct / results.shape[0]\n",
    "print(brown_news_adventures_accuracy)"
   ]
  }
 ],
 "metadata": {
  "kernelspec": {
   "display_name": "Python 3",
   "language": "python",
   "name": "python3"
  },
  "language_info": {
   "codemirror_mode": {
    "name": "ipython",
    "version": 3
   },
   "file_extension": ".py",
   "mimetype": "text/x-python",
   "name": "python",
   "nbconvert_exporter": "python",
   "pygments_lexer": "ipython3",
   "version": "3.6.5"
  }
 },
 "nbformat": 4,
 "nbformat_minor": 2
}
