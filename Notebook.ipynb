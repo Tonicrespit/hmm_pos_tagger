{
 "cells": [
  {
   "cell_type": "markdown",
   "metadata": {},
   "source": [
    "# Test and results."
   ]
  },
  {
   "cell_type": "code",
   "execution_count": 1,
   "metadata": {},
   "outputs": [],
   "source": [
    "from markovify.HMM import HMM\n",
    "from markovify.ViterbiDecoder import ViterbiDecoder\n",
    "\n",
    "from nltk.corpus import brown\n",
    "from math import ceil, floor\n",
    "\n",
    "import pandas as pd\n",
    "import numpy as np"
   ]
  },
  {
   "cell_type": "code",
   "execution_count": 2,
   "metadata": {},
   "outputs": [],
   "source": [
    "# Just a progress bar to know how a loop is progressing\n",
    "# Code not related to the project.\n",
    "# All credit to https://github.com/alexanderkuk/log-progress\n",
    "\n",
    "\n",
    "def log_progress(sequence, every=None, size=None, name='Items'):\n",
    "    from ipywidgets import IntProgress, HTML, VBox\n",
    "    from IPython.display import display\n",
    "\n",
    "    is_iterator = False\n",
    "    if size is None:\n",
    "        try:\n",
    "            size = len(sequence)\n",
    "        except TypeError:\n",
    "            is_iterator = True\n",
    "    if size is not None:\n",
    "        if every is None:\n",
    "            if size <= 200:\n",
    "                every = 1\n",
    "            else:\n",
    "                every = int(size / 200)     # every 0.5%\n",
    "    else:\n",
    "        assert every is not None, 'sequence is iterator, set every'\n",
    "\n",
    "    if is_iterator:\n",
    "        progress = IntProgress(min=0, max=1, value=1)\n",
    "        progress.bar_style = 'info'\n",
    "    else:\n",
    "        progress = IntProgress(min=0, max=size, value=0)\n",
    "    label = HTML()\n",
    "    box = VBox(children=[label, progress])\n",
    "    display(box)\n",
    "\n",
    "    index = 0\n",
    "    try:\n",
    "        for index, record in enumerate(sequence, 1):\n",
    "            if index == 1 or index % every == 0:\n",
    "                if is_iterator:\n",
    "                    label.value = '{name}: {index} / ?'.format(\n",
    "                        name=name,\n",
    "                        index=index\n",
    "                    )\n",
    "                else:\n",
    "                    progress.value = index\n",
    "                    label.value = u'{name}: {index} / {size}'.format(\n",
    "                        name=name,\n",
    "                        index=index,\n",
    "                        size=size\n",
    "                    )\n",
    "            yield record\n",
    "    except:\n",
    "        progress.bar_style = 'danger'\n",
    "        raise\n",
    "    else:\n",
    "        progress.bar_style = 'success'\n",
    "        progress.value = index\n",
    "        label.value = \"{name}: {index}\".format(\n",
    "            name=name,\n",
    "            index=str(index or '?')\n",
    "        )"
   ]
  },
  {
   "cell_type": "markdown",
   "metadata": {},
   "source": [
    "# Accuracy for news text."
   ]
  },
  {
   "cell_type": "code",
   "execution_count": 3,
   "metadata": {},
   "outputs": [
    {
     "name": "stdout",
     "output_type": "stream",
     "text": [
      "4160\n",
      "463\n"
     ]
    }
   ],
   "source": [
    "corpus_tagged = brown.tagged_sents(categories='news', tagset='universal')\n",
    "corpus_raw = brown.sents(categories='news')\n",
    "size = len(corpus_tagged)\n",
    "\n",
    "corpus_train = corpus_tagged[:floor(size*9/10)]\n",
    "corpus_test_tagged = corpus_tagged[floor(size*9/10):]\n",
    "corpus_test = corpus_raw[floor(size*9/10):]\n",
    "\n",
    "print(len(corpus_train))\n",
    "print(len(corpus_test))"
   ]
  },
  {
   "cell_type": "code",
   "execution_count": 4,
   "metadata": {},
   "outputs": [],
   "source": [
    "model = HMM(smoothing='laplace', alpha=1)\n",
    "model.train(corpus_train)\n",
    "#print(model._a)\n",
    "#print(model.b)\n",
    "\n",
    "decoder = ViterbiDecoder(model)"
   ]
  },
  {
   "cell_type": "code",
   "execution_count": 5,
   "metadata": {},
   "outputs": [
    {
     "data": {
      "text/html": [
       "<div>\n",
       "<style scoped>\n",
       "    .dataframe tbody tr th:only-of-type {\n",
       "        vertical-align: middle;\n",
       "    }\n",
       "\n",
       "    .dataframe tbody tr th {\n",
       "        vertical-align: top;\n",
       "    }\n",
       "\n",
       "    .dataframe thead th {\n",
       "        text-align: right;\n",
       "    }\n",
       "</style>\n",
       "<table border=\"1\" class=\"dataframe\">\n",
       "  <thead>\n",
       "    <tr style=\"text-align: right;\">\n",
       "      <th></th>\n",
       "      <th>Word</th>\n",
       "      <th>Tag</th>\n",
       "    </tr>\n",
       "  </thead>\n",
       "  <tbody>\n",
       "    <tr>\n",
       "      <th>0</th>\n",
       "      <td>But</td>\n",
       "      <td>CONJ</td>\n",
       "    </tr>\n",
       "    <tr>\n",
       "      <th>1</th>\n",
       "      <td>in</td>\n",
       "      <td>ADP</td>\n",
       "    </tr>\n",
       "    <tr>\n",
       "      <th>2</th>\n",
       "      <td>all</td>\n",
       "      <td>PRT</td>\n",
       "    </tr>\n",
       "    <tr>\n",
       "      <th>3</th>\n",
       "      <td>its</td>\n",
       "      <td>DET</td>\n",
       "    </tr>\n",
       "    <tr>\n",
       "      <th>4</th>\n",
       "      <td>175</td>\n",
       "      <td>NUM</td>\n",
       "    </tr>\n",
       "    <tr>\n",
       "      <th>5</th>\n",
       "      <td>years</td>\n",
       "      <td>NOUN</td>\n",
       "    </tr>\n",
       "    <tr>\n",
       "      <th>6</th>\n",
       "      <td>,</td>\n",
       "      <td>.</td>\n",
       "    </tr>\n",
       "    <tr>\n",
       "      <th>7</th>\n",
       "      <td>not</td>\n",
       "      <td>ADV</td>\n",
       "    </tr>\n",
       "    <tr>\n",
       "      <th>8</th>\n",
       "      <td>a</td>\n",
       "      <td>DET</td>\n",
       "    </tr>\n",
       "    <tr>\n",
       "      <th>9</th>\n",
       "      <td>single</td>\n",
       "      <td>ADJ</td>\n",
       "    </tr>\n",
       "  </tbody>\n",
       "</table>\n",
       "</div>"
      ],
      "text/plain": [
       "     Word   Tag\n",
       "0     But  CONJ\n",
       "1      in   ADP\n",
       "2     all   PRT\n",
       "3     its   DET\n",
       "4     175   NUM\n",
       "5   years  NOUN\n",
       "6       ,     .\n",
       "7     not   ADV\n",
       "8       a   DET\n",
       "9  single   ADJ"
      ]
     },
     "execution_count": 5,
     "metadata": {},
     "output_type": "execute_result"
    }
   ],
   "source": [
    "flat_list = [item for sublist in corpus_test_tagged for item in sublist]\n",
    "\n",
    "results = pd.DataFrame.from_records(flat_list)\n",
    "results.columns = [\"Word\", \"Tag\"]\n",
    "results.head(10)"
   ]
  },
  {
   "cell_type": "code",
   "execution_count": 6,
   "metadata": {},
   "outputs": [
    {
     "data": {
      "text/plain": [
       "VBox(children=(HTML(value=''), IntProgress(value=0, max=463)))"
      ]
     },
     "metadata": {},
     "output_type": "display_data"
    }
   ],
   "source": [
    "tagged = []\n",
    "for sent in log_progress(corpus_test, every=1):\n",
    "    tagged.append(decoder.viterbi(sent))"
   ]
  },
  {
   "cell_type": "code",
   "execution_count": 7,
   "metadata": {},
   "outputs": [
    {
     "data": {
      "text/html": [
       "<div>\n",
       "<style scoped>\n",
       "    .dataframe tbody tr th:only-of-type {\n",
       "        vertical-align: middle;\n",
       "    }\n",
       "\n",
       "    .dataframe tbody tr th {\n",
       "        vertical-align: top;\n",
       "    }\n",
       "\n",
       "    .dataframe thead th {\n",
       "        text-align: right;\n",
       "    }\n",
       "</style>\n",
       "<table border=\"1\" class=\"dataframe\">\n",
       "  <thead>\n",
       "    <tr style=\"text-align: right;\">\n",
       "      <th></th>\n",
       "      <th>Word</th>\n",
       "      <th>Tag</th>\n",
       "      <th>Predicted</th>\n",
       "    </tr>\n",
       "  </thead>\n",
       "  <tbody>\n",
       "    <tr>\n",
       "      <th>0</th>\n",
       "      <td>But</td>\n",
       "      <td>CONJ</td>\n",
       "      <td>CONJ</td>\n",
       "    </tr>\n",
       "    <tr>\n",
       "      <th>1</th>\n",
       "      <td>in</td>\n",
       "      <td>ADP</td>\n",
       "      <td>ADP</td>\n",
       "    </tr>\n",
       "    <tr>\n",
       "      <th>2</th>\n",
       "      <td>all</td>\n",
       "      <td>PRT</td>\n",
       "      <td>PRT</td>\n",
       "    </tr>\n",
       "    <tr>\n",
       "      <th>3</th>\n",
       "      <td>its</td>\n",
       "      <td>DET</td>\n",
       "      <td>DET</td>\n",
       "    </tr>\n",
       "    <tr>\n",
       "      <th>4</th>\n",
       "      <td>175</td>\n",
       "      <td>NUM</td>\n",
       "      <td>ADJ</td>\n",
       "    </tr>\n",
       "    <tr>\n",
       "      <th>5</th>\n",
       "      <td>years</td>\n",
       "      <td>NOUN</td>\n",
       "      <td>NOUN</td>\n",
       "    </tr>\n",
       "    <tr>\n",
       "      <th>6</th>\n",
       "      <td>,</td>\n",
       "      <td>.</td>\n",
       "      <td>.</td>\n",
       "    </tr>\n",
       "    <tr>\n",
       "      <th>7</th>\n",
       "      <td>not</td>\n",
       "      <td>ADV</td>\n",
       "      <td>ADV</td>\n",
       "    </tr>\n",
       "    <tr>\n",
       "      <th>8</th>\n",
       "      <td>a</td>\n",
       "      <td>DET</td>\n",
       "      <td>DET</td>\n",
       "    </tr>\n",
       "    <tr>\n",
       "      <th>9</th>\n",
       "      <td>single</td>\n",
       "      <td>ADJ</td>\n",
       "      <td>ADJ</td>\n",
       "    </tr>\n",
       "  </tbody>\n",
       "</table>\n",
       "</div>"
      ],
      "text/plain": [
       "     Word   Tag Predicted\n",
       "0     But  CONJ      CONJ\n",
       "1      in   ADP       ADP\n",
       "2     all   PRT       PRT\n",
       "3     its   DET       DET\n",
       "4     175   NUM       ADJ\n",
       "5   years  NOUN      NOUN\n",
       "6       ,     .         .\n",
       "7     not   ADV       ADV\n",
       "8       a   DET       DET\n",
       "9  single   ADJ       ADJ"
      ]
     },
     "execution_count": 7,
     "metadata": {},
     "output_type": "execute_result"
    }
   ],
   "source": [
    "flat_list = [item for sublist in tagged for item in sublist]\n",
    "\n",
    "results['Predicted'] = flat_list\n",
    "results.head(10)"
   ]
  },
  {
   "cell_type": "code",
   "execution_count": 8,
   "metadata": {},
   "outputs": [
    {
     "name": "stdout",
     "output_type": "stream",
     "text": [
      "0.9120901026612179\n"
     ]
    }
   ],
   "source": [
    "total_words = results.shape[0]\n",
    "correct = 0\n",
    "for index, row in results.iterrows():\n",
    "    if row[1] == row[2]:\n",
    "        correct += 1\n",
    "brown_news_accuracy = correct / total_words\n",
    "print(brown_news_accuracy)"
   ]
  },
  {
   "cell_type": "markdown",
   "metadata": {},
   "source": [
    "# Accuracy for news text training the model using an adventures book."
   ]
  },
  {
   "cell_type": "code",
   "execution_count": 9,
   "metadata": {},
   "outputs": [
    {
     "name": "stdout",
     "output_type": "stream",
     "text": [
      "4173\n",
      "463\n"
     ]
    }
   ],
   "source": [
    "corpus_tagged = brown.tagged_sents(categories='adventure', tagset='universal')\n",
    "corpus_test_tagged = brown.tagged_sents(categories='news', tagset='universal')\n",
    "corpus_test_raw = brown.sents(categories='news')\n",
    "\n",
    "size = len(corpus_tagged)\n",
    "\n",
    "corpus_train = corpus_tagged[:floor(size*9/10)]\n",
    "corpus_test_tagged = corpus_test_tagged[:floor(size*1/10)]\n",
    "corpus_test = corpus_test_raw[:floor(size*1/10)]\n",
    "\n",
    "print(len(corpus_train))\n",
    "print(len(corpus_test))"
   ]
  },
  {
   "cell_type": "code",
   "execution_count": 10,
   "metadata": {},
   "outputs": [
    {
     "data": {
      "text/plain": [
       "VBox(children=(HTML(value=''), IntProgress(value=0, max=463)))"
      ]
     },
     "metadata": {},
     "output_type": "display_data"
    }
   ],
   "source": [
    "model = HMM(smoothing='laplace', alpha=1)\n",
    "model.train(corpus_train)\n",
    "\n",
    "decoder = ViterbiDecoder(model)\n",
    "\n",
    "tagged = []\n",
    "for sent in log_progress(corpus_test, every=1):\n",
    "    tagged.append(decoder.viterbi(sent))"
   ]
  },
  {
   "cell_type": "code",
   "execution_count": 11,
   "metadata": {},
   "outputs": [
    {
     "data": {
      "text/html": [
       "<div>\n",
       "<style scoped>\n",
       "    .dataframe tbody tr th:only-of-type {\n",
       "        vertical-align: middle;\n",
       "    }\n",
       "\n",
       "    .dataframe tbody tr th {\n",
       "        vertical-align: top;\n",
       "    }\n",
       "\n",
       "    .dataframe thead th {\n",
       "        text-align: right;\n",
       "    }\n",
       "</style>\n",
       "<table border=\"1\" class=\"dataframe\">\n",
       "  <thead>\n",
       "    <tr style=\"text-align: right;\">\n",
       "      <th></th>\n",
       "      <th>Word</th>\n",
       "      <th>Tag</th>\n",
       "      <th>Predicted</th>\n",
       "    </tr>\n",
       "  </thead>\n",
       "  <tbody>\n",
       "    <tr>\n",
       "      <th>0</th>\n",
       "      <td>The</td>\n",
       "      <td>DET</td>\n",
       "      <td>DET</td>\n",
       "    </tr>\n",
       "    <tr>\n",
       "      <th>1</th>\n",
       "      <td>Fulton</td>\n",
       "      <td>NOUN</td>\n",
       "      <td>ADJ</td>\n",
       "    </tr>\n",
       "    <tr>\n",
       "      <th>2</th>\n",
       "      <td>County</td>\n",
       "      <td>NOUN</td>\n",
       "      <td>NOUN</td>\n",
       "    </tr>\n",
       "    <tr>\n",
       "      <th>3</th>\n",
       "      <td>Grand</td>\n",
       "      <td>ADJ</td>\n",
       "      <td>ADP</td>\n",
       "    </tr>\n",
       "    <tr>\n",
       "      <th>4</th>\n",
       "      <td>Jury</td>\n",
       "      <td>NOUN</td>\n",
       "      <td>NOUN</td>\n",
       "    </tr>\n",
       "    <tr>\n",
       "      <th>5</th>\n",
       "      <td>said</td>\n",
       "      <td>VERB</td>\n",
       "      <td>VERB</td>\n",
       "    </tr>\n",
       "    <tr>\n",
       "      <th>6</th>\n",
       "      <td>Friday</td>\n",
       "      <td>NOUN</td>\n",
       "      <td>ADP</td>\n",
       "    </tr>\n",
       "    <tr>\n",
       "      <th>7</th>\n",
       "      <td>an</td>\n",
       "      <td>DET</td>\n",
       "      <td>DET</td>\n",
       "    </tr>\n",
       "    <tr>\n",
       "      <th>8</th>\n",
       "      <td>investigation</td>\n",
       "      <td>NOUN</td>\n",
       "      <td>NOUN</td>\n",
       "    </tr>\n",
       "    <tr>\n",
       "      <th>9</th>\n",
       "      <td>of</td>\n",
       "      <td>ADP</td>\n",
       "      <td>ADP</td>\n",
       "    </tr>\n",
       "  </tbody>\n",
       "</table>\n",
       "</div>"
      ],
      "text/plain": [
       "            Word   Tag Predicted\n",
       "0            The   DET       DET\n",
       "1         Fulton  NOUN       ADJ\n",
       "2         County  NOUN      NOUN\n",
       "3          Grand   ADJ       ADP\n",
       "4           Jury  NOUN      NOUN\n",
       "5           said  VERB      VERB\n",
       "6         Friday  NOUN       ADP\n",
       "7             an   DET       DET\n",
       "8  investigation  NOUN      NOUN\n",
       "9             of   ADP       ADP"
      ]
     },
     "execution_count": 11,
     "metadata": {},
     "output_type": "execute_result"
    }
   ],
   "source": [
    "flat_list = [item for sublist in corpus_test_tagged for item in sublist]\n",
    "\n",
    "results = pd.DataFrame.from_records(flat_list)\n",
    "results.columns = [\"Word\", \"Tag\"]\n",
    "\n",
    "flat_list = [item for sublist in tagged for item in sublist]\n",
    "\n",
    "results['Predicted'] = flat_list\n",
    "results.head(10)"
   ]
  },
  {
   "cell_type": "code",
   "execution_count": 12,
   "metadata": {},
   "outputs": [
    {
     "name": "stdout",
     "output_type": "stream",
     "text": [
      "0.8024051803885291\n"
     ]
    }
   ],
   "source": [
    "total_words = results.shape[0]\n",
    "correct = 0\n",
    "for index, row in results.iterrows():\n",
    "    if row[1] == row[2]:\n",
    "        correct += 1\n",
    "brown_news_adventures_accuracy = correct / total_words\n",
    "print(brown_news_adventures_accuracy)"
   ]
  },
  {
   "cell_type": "markdown",
   "metadata": {},
   "source": [
    "## Same experiment using $\\alpha = 0.7$."
   ]
  },
  {
   "cell_type": "code",
   "execution_count": 13,
   "metadata": {},
   "outputs": [
    {
     "data": {
      "text/plain": [
       "VBox(children=(HTML(value=''), IntProgress(value=0, max=463)))"
      ]
     },
     "metadata": {},
     "output_type": "display_data"
    },
    {
     "name": "stdout",
     "output_type": "stream",
     "text": [
      "0.7999074930619796\n"
     ]
    }
   ],
   "source": [
    "model = HMM(smoothing='laplace', alpha=0.7)\n",
    "model.train(corpus_train)\n",
    "\n",
    "decoder = ViterbiDecoder(model)\n",
    "\n",
    "tagged = []\n",
    "for sent in log_progress(corpus_test, every=1):\n",
    "    tagged.append(decoder.viterbi(sent))\n",
    "\n",
    "flat_list = [item for sublist in corpus_test_tagged for item in sublist]\n",
    "\n",
    "results = pd.DataFrame.from_records(flat_list)\n",
    "results.columns = [\"Word\", \"Tag\"]\n",
    "\n",
    "flat_list = [item for sublist in tagged for item in sublist]\n",
    "\n",
    "results['Predicted'] = flat_list\n",
    "results.head(10)\n",
    "\n",
    "total_words = results.shape[0]\n",
    "correct = 0\n",
    "for index, row in results.iterrows():\n",
    "    if row[1] == row[2]:\n",
    "        correct += 1\n",
    "brown_news_adventures_accuracy_07 = correct / total_words\n",
    "print(brown_news_adventures_accuracy_07)"
   ]
  }
 ],
 "metadata": {
  "kernelspec": {
   "display_name": "Python 3",
   "language": "python",
   "name": "python3"
  },
  "language_info": {
   "codemirror_mode": {
    "name": "ipython",
    "version": 3
   },
   "file_extension": ".py",
   "mimetype": "text/x-python",
   "name": "python",
   "nbconvert_exporter": "python",
   "pygments_lexer": "ipython3",
   "version": "3.6.5"
  }
 },
 "nbformat": 4,
 "nbformat_minor": 2
}
