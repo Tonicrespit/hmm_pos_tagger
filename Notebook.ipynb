{
 "cells": [
  {
   "cell_type": "markdown",
   "metadata": {},
   "source": [
    "# Test and results."
   ]
  },
  {
   "cell_type": "code",
   "execution_count": 1,
   "metadata": {},
   "outputs": [],
   "source": [
    "from markovify.HMM import HMM\n",
    "from markovify.ViterbiDecoder import ViterbiDecoder\n",
    "\n",
    "from nltk.corpus import brown\n",
    "from math import ceil, floor\n",
    "\n",
    "def recursive_len(item):\n",
    "    count = 0\n",
    "    for subitem in item:\n",
    "        count += len(subitem)\n",
    "    return count"
   ]
  },
  {
   "cell_type": "code",
   "execution_count": 2,
   "metadata": {},
   "outputs": [
    {
     "name": "stdout",
     "output_type": "stream",
     "text": [
      "4160\n",
      "463\n"
     ]
    }
   ],
   "source": [
    "corpus = brown.tagged_sents(categories='news')\n",
    "size = len(corpus)\n",
    "\n",
    "corpus_train = corpus[:floor(size*9/10)]\n",
    "corpus_test = corpus[floor(size*9/10):]\n",
    "\n",
    "print(len(corpus_train))\n",
    "print(len(corpus_test))"
   ]
  },
  {
   "cell_type": "code",
   "execution_count": 3,
   "metadata": {},
   "outputs": [],
   "source": [
    "model = HMM()\n",
    "model.train(corpus_train)\n",
    "#print(model.a)\n",
    "#print(model.b)\n",
    "\n",
    "decoder = ViterbiDecoder(model)"
   ]
  },
  {
   "cell_type": "code",
   "execution_count": 4,
   "metadata": {},
   "outputs": [],
   "source": [
    "# result = decoder.viterbi(corpus_test)\n"
   ]
  }
 ],
 "metadata": {
  "kernelspec": {
   "display_name": "Python 3",
   "language": "python",
   "name": "python3"
  },
  "language_info": {
   "codemirror_mode": {
    "name": "ipython",
    "version": 3
   },
   "file_extension": ".py",
   "mimetype": "text/x-python",
   "name": "python",
   "nbconvert_exporter": "python",
   "pygments_lexer": "ipython3",
   "version": "3.6.5"
  }
 },
 "nbformat": 4,
 "nbformat_minor": 2
}
