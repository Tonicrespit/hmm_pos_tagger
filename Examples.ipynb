{
 "cells": [
  {
   "cell_type": "markdown",
   "metadata": {},
   "source": [
    "# Test and results."
   ]
  },
  {
   "cell_type": "code",
   "execution_count": 1,
   "metadata": {},
   "outputs": [],
   "source": [
    "from markovify.markovify import markovify\n",
    "from markovify.utils.CrossValidation import cross_val_score\n",
    "\n",
    "from nltk.corpus import brown\n",
    "\n",
    "import pandas as pd\n",
    "import numpy as np\n",
    "\n",
    "from markovify.utils.ProgressBar import log_progress"
   ]
  },
  {
   "cell_type": "markdown",
   "metadata": {},
   "source": [
    "# Accuracy for news text."
   ]
  },
  {
   "cell_type": "code",
   "execution_count": 2,
   "metadata": {},
   "outputs": [
    {
     "name": "stdout",
     "output_type": "stream",
     "text": [
      "[0.9037871033776868, 0.8948039721825747, 0.9044380503967216]\n",
      "Best accuracy: 0.9044380503967216.\n"
     ]
    }
   ],
   "source": [
    "corpus = brown.tagged_sents(categories='news', tagset='universal')\n",
    "\n",
    "model = markovify(smoothing='laplace', alpha=1)\n",
    "brown_news_accuracy = cross_val_score(model, sentences=corpus, verbose=False)\n",
    "print(brown_news_accuracy)\n",
    "print('Best accuracy: {}.'.format(np.max(brown_news_accuracy)))"
   ]
  },
  {
   "cell_type": "markdown",
   "metadata": {},
   "source": [
    "# Comparison of different alphas."
   ]
  },
  {
   "cell_type": "code",
   "execution_count": 3,
   "metadata": {},
   "outputs": [
    {
     "name": "stdout",
     "output_type": "stream",
     "text": [
      "Best accuracy for alpha=0.7: 0.9044089865434359.\n",
      "Best accuracy for alpha=0.3: 0.904539707387561.\n"
     ]
    }
   ],
   "source": [
    "corpus = brown.tagged_sents(categories='news', tagset='universal')\n",
    "\n",
    "model07 = markovify(smoothing='laplace', alpha=0.7)\n",
    "brown_news_accuracy_0_7 = cross_val_score(model07, sentences=corpus, verbose=False)\n",
    "print('Best accuracy for alpha=0.7: {}.'.format(np.max(brown_news_accuracy_0_7)))\n",
    "\n",
    "model03 = markovify(smoothing='laplace', alpha=0.3)\n",
    "brown_news_accuracy_0_3 = cross_val_score(model03, sentences=corpus, verbose=False)\n",
    "print('Best accuracy for alpha=0.3: {}.'.format(np.max(brown_news_accuracy_0_3)))"
   ]
  },
  {
   "cell_type": "markdown",
   "metadata": {},
   "source": [
    "# --- OUTDATED ---"
   ]
  },
  {
   "cell_type": "markdown",
   "metadata": {},
   "source": [
    "# Accuracy for news text training the model using an adventures book."
   ]
  },
  {
   "cell_type": "code",
   "execution_count": null,
   "metadata": {},
   "outputs": [],
   "source": [
    "corpus_tagged = brown.tagged_sents(categories='adventure', tagset='universal')\n",
    "corpus_test_tagged = brown.tagged_sents(categories='news', tagset='universal')\n",
    "corpus_test_raw = brown.sents(categories='news')\n",
    "\n",
    "size = len(corpus_tagged)\n",
    "\n",
    "corpus_train = corpus_tagged[:floor(size*9/10)]\n",
    "corpus_test_tagged = corpus_test_tagged[:floor(size*1/10)]\n",
    "corpus_test = corpus_test_raw[:floor(size*1/10)]\n",
    "\n",
    "print(len(corpus_train))\n",
    "print(len(corpus_test))"
   ]
  },
  {
   "cell_type": "code",
   "execution_count": null,
   "metadata": {},
   "outputs": [],
   "source": [
    "model = markovify(smoothing='laplace', alpha=1)\n",
    "model = model.fit(corpus_train)\n",
    "\n",
    "tagged = []\n",
    "for sent in log_progress(corpus_test, every=1):\n",
    "    tagged.append(model.predict(sent))"
   ]
  },
  {
   "cell_type": "code",
   "execution_count": null,
   "metadata": {},
   "outputs": [],
   "source": [
    "flat_list = [item for sublist in corpus_test_tagged for item in sublist]\n",
    "\n",
    "results = pd.DataFrame.from_records(flat_list)\n",
    "results.columns = [\"Word\", \"Tag\"]\n",
    "\n",
    "flat_list = [item for sublist in tagged for item in sublist]\n",
    "\n",
    "results['Predicted'] = flat_list\n",
    "results.head(10)"
   ]
  },
  {
   "cell_type": "code",
   "execution_count": null,
   "metadata": {},
   "outputs": [],
   "source": [
    "total_words = results.shape[0]\n",
    "correct = 0\n",
    "for index, row in results.iterrows():\n",
    "    if row[1] == row[2]:\n",
    "        correct += 1\n",
    "brown_news_adventures_accuracy = correct / total_words\n",
    "print(brown_news_adventures_accuracy)"
   ]
  },
  {
   "cell_type": "markdown",
   "metadata": {},
   "source": [
    "## Same experiment using $\\alpha = 0.7$."
   ]
  },
  {
   "cell_type": "code",
   "execution_count": null,
   "metadata": {},
   "outputs": [],
   "source": [
    "model = HMM(smoothing='laplace', alpha=0.7)\n",
    "model = model.fit(corpus_train)\n",
    "\n",
    "tagged = []\n",
    "for sent in log_progress(corpus_test, every=1):\n",
    "    tagged.append(model.predict(sent))\n",
    "\n",
    "flat_list = [item for sublist in corpus_test_tagged for item in sublist]\n",
    "\n",
    "results = pd.DataFrame.from_records(flat_list)\n",
    "results.columns = [\"Word\", \"Tag\"]\n",
    "\n",
    "flat_list = [item for sublist in tagged for item in sublist]\n",
    "\n",
    "results['Predicted'] = flat_list\n",
    "results.head(10)\n",
    "\n",
    "total_words = results.shape[0]\n",
    "correct = 0\n",
    "for index, row in results.iterrows():\n",
    "    if row[1] == row[2]:\n",
    "        correct += 1\n",
    "brown_news_adventures_accuracy_07 = correct / total_words\n",
    "print(brown_news_adventures_accuracy_07)"
   ]
  }
 ],
 "metadata": {
  "kernelspec": {
   "display_name": "Python 3",
   "language": "python",
   "name": "python3"
  },
  "language_info": {
   "codemirror_mode": {
    "name": "ipython",
    "version": 3
   },
   "file_extension": ".py",
   "mimetype": "text/x-python",
   "name": "python",
   "nbconvert_exporter": "python",
   "pygments_lexer": "ipython3",
   "version": "3.6.5"
  }
 },
 "nbformat": 4,
 "nbformat_minor": 2
}
