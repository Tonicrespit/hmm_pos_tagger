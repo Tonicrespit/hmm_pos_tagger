{
 "cells": [
  {
   "cell_type": "markdown",
   "metadata": {},
   "source": [
    "# Test and experiments using Hidden Markov Models for Part-of-speech Tagging.\n",
    "_Antonio Crespí Tobeña_\n",
    "\n",
    "\n",
    "\n",
    "This notebook is a complement of the code provided in the repository https://github.com/Tonicrespit/hmm_pos_tagger. \n",
    "\n",
    "Here, we present a few examples to explain how the code works and how to perform your own tests. \n",
    "\n",
    "As the experiments are performed on texts with millions of words, you can find that some examples take some time to run. Before each section you can find an estimate of how long it takes to execute each chunk of code. Keep in mind that these times are just a guidance and it may change depending on the power or workload of your machine.\n",
    "\n",
    "First of all, we need the following libraries:"
   ]
  },
  {
   "cell_type": "code",
   "execution_count": 1,
   "metadata": {},
   "outputs": [],
   "source": [
    "# Core of the Hidden Markov Model\n",
    "from HMM.Markovify import *\n",
    "from HMM.Utils.CrossValidation import cross_validation_score\n",
    "\n",
    "# Corpus to test the model\n",
    "from nltk.corpus import brown\n",
    "\n",
    "# Utilities to store, manipulate and display data\n",
    "import pandas as pd\n",
    "import numpy as np\n",
    "import random\n",
    "from math import ceil\n",
    "import importlib\n",
    "import json\n",
    "\n",
    "# Progress bar to get feedback from the loops\n",
    "from HMM.Utils.ProgressBar import log_progress"
   ]
  },
  {
   "cell_type": "markdown",
   "metadata": {},
   "source": [
    "# Accuracy for news text.\n",
    "_Time to run: between 2 and 4 minutes each of the last two chunks_\n",
    "\n",
    "This a simple introduction example to check how the cross validation works. First, we need a tagged corpus to train the model:"
   ]
  },
  {
   "cell_type": "code",
   "execution_count": 2,
   "metadata": {},
   "outputs": [],
   "source": [
    "corpus = brown.tagged_sents(categories='news', tagset='universal')"
   ]
  },
  {
   "cell_type": "markdown",
   "metadata": {},
   "source": [
    "Once we have the training text, we can create the model. At the moment, the only parameter of the model is the smoothing technique used to deal with unknown words. Two are available:\n",
    "\n",
    "- 'max' to use the most probable Part-Of-Speech (POS) tag.\n",
    "- 'laplace' to use LaPlace smoothing.\n",
    "\n",
    "In this example we use the most probable POS-tag."
   ]
  },
  {
   "cell_type": "code",
   "execution_count": 3,
   "metadata": {},
   "outputs": [],
   "source": [
    "model = Markovify(smoothing='max')"
   ]
  },
  {
   "cell_type": "markdown",
   "metadata": {},
   "source": [
    "With a model specified, we can call the function `cross_validate_score` to do the training. As it may take a few minutes, you can change the parameter `verbose` to `true` to get updates on how the training is going.\n",
    "\n",
    "You can also increase or decrease `n_jobs` to change the number of processor cores assigned to the task."
   ]
  },
  {
   "cell_type": "code",
   "execution_count": 4,
   "metadata": {},
   "outputs": [
    {
     "name": "stdout",
     "output_type": "stream",
     "text": [
      "[\n",
      " {\n",
      "  \"accuracy\": 0.936846221527031,\n",
      "  \"precision\": 0.9393671341878453,\n",
      "  \"recall\": 0.936846221527031\n",
      " },\n",
      " {\n",
      "  \"accuracy\": 0.9336578797451965,\n",
      "  \"precision\": 0.9356507148147001,\n",
      "  \"recall\": 0.9336578797451965\n",
      " },\n",
      " {\n",
      "  \"accuracy\": 0.9444305631902453,\n",
      "  \"precision\": 0.946691206370062,\n",
      "  \"recall\": 0.9444305631902453\n",
      " },\n",
      " {\n",
      "  \"accuracy\": 0.928161063096368,\n",
      "  \"precision\": 0.9320455034786705,\n",
      "  \"recall\": 0.928161063096368\n",
      " },\n",
      " {\n",
      "  \"accuracy\": 0.9191194180837228,\n",
      "  \"precision\": 0.9261004846198038,\n",
      "  \"recall\": 0.9191194180837228\n",
      " }\n",
      "]\n"
     ]
    }
   ],
   "source": [
    "brown_news_score = cross_validation_score(model, sentences=corpus, cv=5, verbose=False, n_jobs=8)\n",
    "\n",
    "print(json.dumps(brown_news_score, indent=1))"
   ]
  },
  {
   "cell_type": "markdown",
   "metadata": {},
   "source": [
    "The same process can be repeated with different number of folds to see if there is a relation between the number of folds and the accuracy of the model.\n",
    "\n",
    "Note that we run the test with only a 20% of the original _corpus_. The only reason behind this is to reduce the execution time. If you want to run the experiment on the full _corpus_ replace `sample_corpus` with `corpus` in the `sentences=sample_corpus` parameter of  the cross-validation. "
   ]
  },
  {
   "cell_type": "code",
   "execution_count": 5,
   "metadata": {},
   "outputs": [
    {
     "data": {
      "application/vnd.jupyter.widget-view+json": {
       "model_id": "4ab3734453fb4c4d9f7e0ec3ba29c0f8",
       "version_major": 2,
       "version_minor": 0
      },
      "text/plain": [
       "VBox(children=(HTML(value=''), IntProgress(value=0, max=3)))"
      ]
     },
     "metadata": {},
     "output_type": "display_data"
    },
    {
     "name": "stdout",
     "output_type": "stream",
     "text": [
      "[0.8874789787494267, 0.9, 0.9045477261369316]\n"
     ]
    }
   ],
   "source": [
    "sample_idx = random.sample(range(0, len(corpus)), ceil(len(corpus) * 0.2))\n",
    "sample_corpus = list(corpus[i] for i in sample_idx)\n",
    "\n",
    "nfolds = [3, 5, 10]\n",
    "scores = []\n",
    "for n in log_progress(nfolds):\n",
    "    model = Markovify(smoothing='max')\n",
    "    model_scores = cross_validation_score(model, sentences=sample_corpus, cv=n, verbose=False)\n",
    "    scores.append(np.max([model['accuracy'] for model in model_scores]))\n",
    "    \n",
    "print(scores)"
   ]
  },
  {
   "cell_type": "markdown",
   "metadata": {},
   "source": [
    "# Comparison of different smoothing techniques.\n",
    "_Time to run: between 5 and 8 minutes_\n",
    "\n",
    "In this experiment we are going to compare the two approaches to dealing with unknown words. First, we are going to train a model using cross-validation for the LaPlace (or additive) smoothing and then for the most probable POS-tag."
   ]
  },
  {
   "cell_type": "code",
   "execution_count": 6,
   "metadata": {},
   "outputs": [
    {
     "name": "stdout",
     "output_type": "stream",
     "text": [
      "Best accuracy for Laplace smoothing: 0.9161208329259947.\n",
      "Best accuracy for most probable POS-tag: 0.9444305631902453.\n"
     ]
    }
   ],
   "source": [
    "corpus = brown.tagged_sents(categories='news', tagset='universal')\n",
    "\n",
    "model_laplace = Markovify(smoothing='laplace', alpha=1)\n",
    "brown_news_accuracy_laplace = cross_validation_score(model_laplace, sentences=corpus, verbose=False)\n",
    "print('Best accuracy for Laplace smoothing: {}.'.format(np.max([model['accuracy'] for model in brown_news_accuracy_laplace])))\n",
    "\n",
    "model_max = Markovify(smoothing='max')\n",
    "brown_news_accuracy_max = cross_validation_score(model_max, sentences=corpus, verbose=False)\n",
    "print('Best accuracy for most probable POS-tag: {}.'.format(np.max([model['accuracy'] for model in brown_news_accuracy_max])))"
   ]
  },
  {
   "cell_type": "markdown",
   "metadata": {},
   "source": [
    "# Training a model with an adventures _corpus_ to tag a news text.\n",
    "_Time to run: between 1 and 2 minutes_\n",
    "\n",
    "This is a simple experiment to train a model without using cross-validation. It can be useful if you need to get faster results or you want to test a model using a different _corpus_."
   ]
  },
  {
   "cell_type": "code",
   "execution_count": 7,
   "metadata": {},
   "outputs": [],
   "source": [
    "corpus_advs = brown.tagged_sents(categories='adventure', tagset='universal')\n",
    "corpus_news = brown.tagged_sents(categories='news', tagset='universal')\n",
    "\n",
    "# Build the model using news\n",
    "model = Markovify(smoothing='max')\n",
    "model = model.fit(corpus_news)\n",
    "\n",
    "# Get predicions on adventures\n",
    "tagged = model.predict(corpus_advs)"
   ]
  },
  {
   "cell_type": "markdown",
   "metadata": {},
   "source": [
    "One way to display the results is using a table were each word comes with its real tag and the predicted tag. It is useful if you want to specifically check a word or the text to predict is small.\n",
    "\n",
    "If you want to see more than the first 10 rows, change the parameter of `results.head(10)` to the desired number."
   ]
  },
  {
   "cell_type": "code",
   "execution_count": 8,
   "metadata": {},
   "outputs": [
    {
     "data": {
      "text/html": [
       "<div>\n",
       "<style scoped>\n",
       "    .dataframe tbody tr th:only-of-type {\n",
       "        vertical-align: middle;\n",
       "    }\n",
       "\n",
       "    .dataframe tbody tr th {\n",
       "        vertical-align: top;\n",
       "    }\n",
       "\n",
       "    .dataframe thead th {\n",
       "        text-align: right;\n",
       "    }\n",
       "</style>\n",
       "<table border=\"1\" class=\"dataframe\">\n",
       "  <thead>\n",
       "    <tr style=\"text-align: right;\">\n",
       "      <th></th>\n",
       "      <th>Word</th>\n",
       "      <th>Tag</th>\n",
       "      <th>Predicted</th>\n",
       "    </tr>\n",
       "  </thead>\n",
       "  <tbody>\n",
       "    <tr>\n",
       "      <th>0</th>\n",
       "      <td>Dan</td>\n",
       "      <td>NOUN</td>\n",
       "      <td>NOUN</td>\n",
       "    </tr>\n",
       "    <tr>\n",
       "      <th>1</th>\n",
       "      <td>Morgan</td>\n",
       "      <td>NOUN</td>\n",
       "      <td>NOUN</td>\n",
       "    </tr>\n",
       "    <tr>\n",
       "      <th>2</th>\n",
       "      <td>told</td>\n",
       "      <td>VERB</td>\n",
       "      <td>VERB</td>\n",
       "    </tr>\n",
       "    <tr>\n",
       "      <th>3</th>\n",
       "      <td>himself</td>\n",
       "      <td>PRON</td>\n",
       "      <td>PRON</td>\n",
       "    </tr>\n",
       "    <tr>\n",
       "      <th>4</th>\n",
       "      <td>he</td>\n",
       "      <td>PRON</td>\n",
       "      <td>PRON</td>\n",
       "    </tr>\n",
       "    <tr>\n",
       "      <th>5</th>\n",
       "      <td>would</td>\n",
       "      <td>VERB</td>\n",
       "      <td>VERB</td>\n",
       "    </tr>\n",
       "    <tr>\n",
       "      <th>6</th>\n",
       "      <td>forget</td>\n",
       "      <td>VERB</td>\n",
       "      <td>VERB</td>\n",
       "    </tr>\n",
       "    <tr>\n",
       "      <th>7</th>\n",
       "      <td>Ann</td>\n",
       "      <td>NOUN</td>\n",
       "      <td>NOUN</td>\n",
       "    </tr>\n",
       "    <tr>\n",
       "      <th>8</th>\n",
       "      <td>Turner</td>\n",
       "      <td>NOUN</td>\n",
       "      <td>NOUN</td>\n",
       "    </tr>\n",
       "    <tr>\n",
       "      <th>9</th>\n",
       "      <td>.</td>\n",
       "      <td>.</td>\n",
       "      <td>.</td>\n",
       "    </tr>\n",
       "  </tbody>\n",
       "</table>\n",
       "</div>"
      ],
      "text/plain": [
       "      Word   Tag Predicted\n",
       "0      Dan  NOUN      NOUN\n",
       "1   Morgan  NOUN      NOUN\n",
       "2     told  VERB      VERB\n",
       "3  himself  PRON      PRON\n",
       "4       he  PRON      PRON\n",
       "5    would  VERB      VERB\n",
       "6   forget  VERB      VERB\n",
       "7      Ann  NOUN      NOUN\n",
       "8   Turner  NOUN      NOUN\n",
       "9        .     .         ."
      ]
     },
     "execution_count": 8,
     "metadata": {},
     "output_type": "execute_result"
    }
   ],
   "source": [
    "advs_records = [item for sublist in corpus_advs for item in sublist]\n",
    "predicted_tags = [item for sublist in tagged for item in sublist]\n",
    "\n",
    "results = pd.DataFrame.from_records(advs_records)\n",
    "results.columns = [\"Word\", \"Tag\"]\n",
    "results['Predicted'] = predicted_tags\n",
    "results.head(10)"
   ]
  },
  {
   "cell_type": "markdown",
   "metadata": {},
   "source": [
    "If you make predictions about hundreds, thousands, or even millions of words, checking the results as a table will be impossible. \n",
    "\n",
    "You can instead plot a normalized confusion matrix where you will see each POS-tag with its accuracy, type-I error and type-II error.\n",
    "\n",
    "Note that the confusion matrix is normalized by default. If you want to see the matrix without normalization specify `normalize=False` to the `confusion_matrix` function."
   ]
  },
  {
   "cell_type": "code",
   "execution_count": 9,
   "metadata": {},
   "outputs": [],
   "source": [
    "from HMM.Utils.Scoring import *\n",
    "\n",
    "cm = confusion_matrix(corpus_advs, tagged)"
   ]
  },
  {
   "cell_type": "code",
   "execution_count": 10,
   "metadata": {},
   "outputs": [
    {
     "data": {
      "text/plain": [
       "<matplotlib.axes._subplots.AxesSubplot at 0x1bb97d4f828>"
      ]
     },
     "execution_count": 10,
     "metadata": {},
     "output_type": "execute_result"
    },
    {
     "data": {
      "image/png": "[encoded data removed]",
      "text/plain": [
       "<Figure size 720x360 with 2 Axes>"
      ]
     },
     "metadata": {},
     "output_type": "display_data"
    }
   ],
   "source": [
    "%matplotlib inline\n",
    "import matplotlib.pyplot as plt\n",
    "import seaborn as sn\n",
    "plt.rcParams['figure.figsize'] = [10, 5]\n",
    "\n",
    "sn.heatmap(cm)"
   ]
  },
  {
   "cell_type": "code",
   "execution_count": 11,
   "metadata": {},
   "outputs": [
    {
     "name": "stdout",
     "output_type": "stream",
     "text": [
      "0.9071125724669031\n",
      "0.9071125724669031\n",
      "0.9175696587900677\n"
     ]
    }
   ],
   "source": [
    "print(accuracy(corpus_advs, tagged))\n",
    "print(recall(corpus_advs, tagged))\n",
    "print(precision(corpus_advs, tagged))"
   ]
  },
  {
   "cell_type": "markdown",
   "metadata": {},
   "source": [
    "# Accuracy of the model based on the size of the training corpus and POS-tag distribution.\n",
    "_Time to run: between 4 and 7 minutes_\n",
    "\n",
    "Most --if not all-- statistical models need a minimum of training samples to adjust their parameters in order to make accurate predictions. This is no different for the Hidden Markov Models. This experiment is designed to find how long a training _corpus_ has to be to provide acceptable results.\n",
    "\n",
    "In order to achieve this goal, we are going to use cross-validation on seven corpus:\n",
    "- 1% of the adventure texts.\n",
    "- 5% of the adventure texts.\n",
    "- 10% of the adventure texts.\n",
    "- 25% of the adventure texts.\n",
    "- 50% of the adventure texts.\n",
    "- 80% of the adventure texts.\n",
    "- 100% of the adventure texts."
   ]
  },
  {
   "cell_type": "code",
   "execution_count": 12,
   "metadata": {},
   "outputs": [
    {
     "data": {
      "application/vnd.jupyter.widget-view+json": {
       "model_id": "959f72904ca84356b4dc7bf4eaf48d0c",
       "version_major": 2,
       "version_minor": 0
      },
      "text/plain": [
       "VBox(children=(HTML(value=''), IntProgress(value=0, max=7)))"
      ]
     },
     "metadata": {},
     "output_type": "display_data"
    }
   ],
   "source": [
    "corpus = brown.tagged_sents(categories='adventure', tagset='universal')\n",
    "\n",
    "corpus_len = len(corpus)\n",
    "train_size = [  1 * corpus_len / 100, \n",
    "                5 * corpus_len / 100, \n",
    "               10 * corpus_len / 100, \n",
    "               25 * corpus_len / 100, \n",
    "               50 * corpus_len / 100, \n",
    "               80 * corpus_len / 100, \n",
    "              100 * corpus_len / 100]\n",
    "\n",
    "accuracy = []\n",
    "for length in log_progress(train_size):\n",
    "    partial_corpus = list(corpus[i] for i in range(0, ceil(length)))\n",
    "\n",
    "    m = Markovify(smoothing='max')\n",
    "    fold_scores = cross_validation_score(m, sentences=partial_corpus)\n",
    "    accuracy.append(np.max([fold['accuracy'] for fold in fold_scores]))"
   ]
  },
  {
   "cell_type": "markdown",
   "metadata": {},
   "source": [
    "Once are the models are trained, we can plot their accuracies:"
   ]
  },
  {
   "cell_type": "code",
   "execution_count": 13,
   "metadata": {},
   "outputs": [
    {
     "data": {
      "text/plain": [
       "[<matplotlib.lines.Line2D at 0x1bb98693a58>]"
      ]
     },
     "execution_count": 13,
     "metadata": {},
     "output_type": "execute_result"
    },
    {
     "data": {
      "image/png": "[encoded data removed]",
      "text/plain": [
       "<Figure size 432x288 with 1 Axes>"
      ]
     },
     "metadata": {},
     "output_type": "display_data"
    }
   ],
   "source": [
    "%matplotlib inline\n",
    "import matplotlib.pyplot as plt\n",
    "\n",
    "plt.plot(train_size, accuracy)"
   ]
  },
  {
   "cell_type": "markdown",
   "metadata": {},
   "source": [
    "As expected, the bigger the training _corpus_ the better the model. However, a _corpus_ with ~2500 sentences already provides an accuracy of more than 90%.\n",
    "\n",
    "# POS-tag distribution.\n",
    "_Time to run: between 2 and 4 minutes_\n",
    "\n",
    "Due to the nature of the POS-tags, it is obvious that not every POS-tag will appear the same amount of times in a text. But how skewed is their distribution?\n",
    "\n",
    "To find out, we just have to train a model using cross-validation and get its tag count:"
   ]
  },
  {
   "cell_type": "code",
   "execution_count": 14,
   "metadata": {},
   "outputs": [],
   "source": [
    "corpus = brown.tagged_sents(categories='adventure', tagset='universal')\n",
    "\n",
    "m = Markovify(smoothing='max')\n",
    "acc, m = cross_validation_score(m, sentences=corpus, return_model=True)"
   ]
  },
  {
   "cell_type": "code",
   "execution_count": 15,
   "metadata": {},
   "outputs": [
    {
     "data": {
      "text/plain": [
       "Text(0.5,0,'Recuento del tag')"
      ]
     },
     "execution_count": 15,
     "metadata": {},
     "output_type": "execute_result"
    },
    {
     "data": {
      "image/png": "[encoded data removed]",
      "text/plain": [
       "<Figure size 432x288 with 1 Axes>"
      ]
     },
     "metadata": {},
     "output_type": "display_data"
    }
   ],
   "source": [
    "%matplotlib inline\n",
    "import matplotlib.pyplot as plt\n",
    "\n",
    "tags = m.hmm.q\n",
    "pos = np.arange(len(tags))\n",
    "counts = m.hmm.tag_count\n",
    "\n",
    "plt.barh(pos, counts, align='center', alpha=0.5)\n",
    "plt.yticks(pos, tags)\n",
    "plt.xlabel('Recuento del tag')"
   ]
  },
  {
   "cell_type": "code",
   "execution_count": 16,
   "metadata": {},
   "outputs": [
    {
     "data": {
      "text/plain": [
       "array([    0.,  4160., 10024.,  6776., 11216.,  5910.,  2882.,  8964.,\n",
       "           0.,  3289.,   394.,  1805.,  1950.,    34.])"
      ]
     },
     "execution_count": 16,
     "metadata": {},
     "output_type": "execute_result"
    }
   ],
   "source": [
    "counts"
   ]
  },
  {
   "cell_type": "markdown",
   "metadata": {},
   "source": [
    "As expected, the support of the tags varies greatly. This is one of the main reasons why the most probable POS-tag approach to dealing with unknown words is so effective."
   ]
  }
 ],
 "metadata": {
  "kernelspec": {
   "display_name": "Python 3",
   "language": "python",
   "name": "python3"
  },
  "language_info": {
   "codemirror_mode": {
    "name": "ipython",
    "version": 3
   },
   "file_extension": ".py",
   "mimetype": "text/x-python",
   "name": "python",
   "nbconvert_exporter": "python",
   "pygments_lexer": "ipython3",
   "version": "3.6.5"
  }
 },
 "nbformat": 4,
 "nbformat_minor": 2
}
