{
 "cells": [
  {
   "cell_type": "markdown",
   "metadata": {},
   "source": [
    "# Test and results."
   ]
  },
  {
   "cell_type": "code",
   "execution_count": 1,
   "metadata": {},
   "outputs": [],
   "source": [
    "from Markovify.Markovify import Markovify\n",
    "from Markovify.Utils.CrossValidation import cross_validation_score\n",
    "\n",
    "from nltk.corpus import brown\n",
    "\n",
    "import pandas as pd\n",
    "import numpy as np\n",
    "import random\n",
    "from math import ceil\n",
    "import importlib\n",
    "\n",
    "from Markovify.Utils.ProgressBar import log_progress"
   ]
  },
  {
   "cell_type": "markdown",
   "metadata": {},
   "source": [
    "# Accuracy for news text."
   ]
  },
  {
   "cell_type": "code",
   "execution_count": 2,
   "metadata": {},
   "outputs": [
    {
     "name": "stdout",
     "output_type": "stream",
     "text": [
      "[0.92424664 0.92019022 0.89462453 0.90325306 0.9142     0.9090001\n",
      " 0.89937782 0.92089762 0.91189633 0.9120901 ]\n",
      "Best accuracy: 0.9242466388502549.\n"
     ]
    }
   ],
   "source": [
    "corpus = brown.tagged_sents(categories='news', tagset='universal')\n",
    "\n",
    "model = Markovify(smoothing='laplace', alpha=1)\n",
    "brown_news_accuracy = cross_validation_score(model, sentences=corpus, cv=10, verbose=False)\n",
    "print(brown_news_accuracy)\n",
    "print('Best accuracy: {}.'.format(np.max(brown_news_accuracy)))"
   ]
  },
  {
   "cell_type": "code",
   "execution_count": 3,
   "metadata": {},
   "outputs": [
    {
     "data": {
      "application/vnd.jupyter.widget-view+json": {
       "model_id": "95cfdd3fffa2475a9d140fcd85018267",
       "version_major": 2,
       "version_minor": 0
      },
      "text/plain": [
       "VBox(children=(HTML(value=''), IntProgress(value=0, max=3)))"
      ]
     },
     "metadata": {},
     "output_type": "display_data"
    },
    {
     "name": "stdout",
     "output_type": "stream",
     "text": [
      "[0.8607385079125848, 0.871340713407134, 0.8830379746835443]\n"
     ]
    }
   ],
   "source": [
    "sample_idx = random.sample(range(0, len(corpus)), ceil(len(corpus) * 0.2))\n",
    "sample_corpus = list(corpus[i] for i in sample_idx)\n",
    "\n",
    "nfolds = [3, 5, 10]\n",
    "scores = []\n",
    "for n in log_progress(nfolds):\n",
    "    model = Markovify(smoothing='laplace', alpha=1)\n",
    "    score = cross_validation_score(model, sentences=sample_corpus, cv=n, verbose=False)\n",
    "    scores.append(np.max(score))\n",
    "    \n",
    "print(scores)"
   ]
  },
  {
   "cell_type": "markdown",
   "metadata": {},
   "source": [
    "# Comparison of different alphas."
   ]
  },
  {
   "cell_type": "code",
   "execution_count": 4,
   "metadata": {},
   "outputs": [
    {
     "name": "stdout",
     "output_type": "stream",
     "text": [
      "Best accuracy for alpha=0.7: 0.9166585198944178.\n",
      "Best accuracy for alpha=0.3: 0.917196206862841.\n"
     ]
    }
   ],
   "source": [
    "corpus = brown.tagged_sents(categories='news', tagset='universal')\n",
    "\n",
    "model07 = Markovify(smoothing='laplace', alpha=0.7)\n",
    "brown_news_accuracy_0_7 = cross_validation_score(model07, sentences=corpus, verbose=False)\n",
    "print('Best accuracy for alpha=0.7: {}.'.format(np.max(brown_news_accuracy_0_7)))\n",
    "\n",
    "model03 = Markovify(smoothing='laplace', alpha=0.3)\n",
    "brown_news_accuracy_0_3 = cross_validation_score(model03, sentences=corpus, verbose=False)\n",
    "print('Best accuracy for alpha=0.3: {}.'.format(np.max(brown_news_accuracy_0_3)))"
   ]
  },
  {
   "cell_type": "markdown",
   "metadata": {},
   "source": [
    "# Accuracy for news text training the model using an adventures book."
   ]
  },
  {
   "cell_type": "code",
   "execution_count": 5,
   "metadata": {},
   "outputs": [],
   "source": [
    "corpus_advs = brown.tagged_sents(categories='adventure', tagset='universal')\n",
    "corpus_news = brown.tagged_sents(categories='news', tagset='universal')\n",
    "\n",
    "model = Markovify(smoothing='laplace', alpha=1)\n",
    "model = model.fit(corpus_news)\n",
    "\n",
    "tagged = model.predict(corpus_advs)"
   ]
  },
  {
   "cell_type": "code",
   "execution_count": 6,
   "metadata": {},
   "outputs": [
    {
     "data": {
      "text/html": [
       "<div>\n",
       "<style scoped>\n",
       "    .dataframe tbody tr th:only-of-type {\n",
       "        vertical-align: middle;\n",
       "    }\n",
       "\n",
       "    .dataframe tbody tr th {\n",
       "        vertical-align: top;\n",
       "    }\n",
       "\n",
       "    .dataframe thead th {\n",
       "        text-align: right;\n",
       "    }\n",
       "</style>\n",
       "<table border=\"1\" class=\"dataframe\">\n",
       "  <thead>\n",
       "    <tr style=\"text-align: right;\">\n",
       "      <th></th>\n",
       "      <th>Word</th>\n",
       "      <th>Tag</th>\n",
       "      <th>Predicted</th>\n",
       "    </tr>\n",
       "  </thead>\n",
       "  <tbody>\n",
       "    <tr>\n",
       "      <th>0</th>\n",
       "      <td>Dan</td>\n",
       "      <td>NOUN</td>\n",
       "      <td>NOUN</td>\n",
       "    </tr>\n",
       "    <tr>\n",
       "      <th>1</th>\n",
       "      <td>Morgan</td>\n",
       "      <td>NOUN</td>\n",
       "      <td>NOUN</td>\n",
       "    </tr>\n",
       "    <tr>\n",
       "      <th>2</th>\n",
       "      <td>told</td>\n",
       "      <td>VERB</td>\n",
       "      <td>VERB</td>\n",
       "    </tr>\n",
       "    <tr>\n",
       "      <th>3</th>\n",
       "      <td>himself</td>\n",
       "      <td>PRON</td>\n",
       "      <td>PRON</td>\n",
       "    </tr>\n",
       "    <tr>\n",
       "      <th>4</th>\n",
       "      <td>he</td>\n",
       "      <td>PRON</td>\n",
       "      <td>PRON</td>\n",
       "    </tr>\n",
       "    <tr>\n",
       "      <th>5</th>\n",
       "      <td>would</td>\n",
       "      <td>VERB</td>\n",
       "      <td>VERB</td>\n",
       "    </tr>\n",
       "    <tr>\n",
       "      <th>6</th>\n",
       "      <td>forget</td>\n",
       "      <td>VERB</td>\n",
       "      <td>VERB</td>\n",
       "    </tr>\n",
       "    <tr>\n",
       "      <th>7</th>\n",
       "      <td>Ann</td>\n",
       "      <td>NOUN</td>\n",
       "      <td>NOUN</td>\n",
       "    </tr>\n",
       "    <tr>\n",
       "      <th>8</th>\n",
       "      <td>Turner</td>\n",
       "      <td>NOUN</td>\n",
       "      <td>NOUN</td>\n",
       "    </tr>\n",
       "    <tr>\n",
       "      <th>9</th>\n",
       "      <td>.</td>\n",
       "      <td>.</td>\n",
       "      <td>.</td>\n",
       "    </tr>\n",
       "  </tbody>\n",
       "</table>\n",
       "</div>"
      ],
      "text/plain": [
       "      Word   Tag Predicted\n",
       "0      Dan  NOUN      NOUN\n",
       "1   Morgan  NOUN      NOUN\n",
       "2     told  VERB      VERB\n",
       "3  himself  PRON      PRON\n",
       "4       he  PRON      PRON\n",
       "5    would  VERB      VERB\n",
       "6   forget  VERB      VERB\n",
       "7      Ann  NOUN      NOUN\n",
       "8   Turner  NOUN      NOUN\n",
       "9        .     .         ."
      ]
     },
     "execution_count": 6,
     "metadata": {},
     "output_type": "execute_result"
    }
   ],
   "source": [
    "advs_records = [item for sublist in corpus_advs for item in sublist]\n",
    "predicted_tags = [item for sublist in tagged for item in sublist]\n",
    "\n",
    "results = pd.DataFrame.from_records(advs_records)\n",
    "results.columns = [\"Word\", \"Tag\"]\n",
    "results['Predicted'] = predicted_tags\n",
    "results.head(10)"
   ]
  },
  {
   "cell_type": "code",
   "execution_count": 7,
   "metadata": {},
   "outputs": [],
   "source": [
    "from Markovify.Utils.Scoring import *\n",
    "\n",
    "cm = confusion_matrix(corpus_advs, tagged)"
   ]
  },
  {
   "cell_type": "code",
   "execution_count": 8,
   "metadata": {},
   "outputs": [
    {
     "data": {
      "text/plain": [
       "<matplotlib.axes._subplots.AxesSubplot at 0x24bd41eefd0>"
      ]
     },
     "execution_count": 8,
     "metadata": {},
     "output_type": "execute_result"
    },
    {
     "data": {
      "image/png": "[encoded data removed]",
      "text/plain": [
       "<Figure size 720x360 with 2 Axes>"
      ]
     },
     "metadata": {},
     "output_type": "display_data"
    }
   ],
   "source": [
    "%matplotlib inline\n",
    "import matplotlib.pyplot as plt\n",
    "import seaborn as sn\n",
    "plt.rcParams['figure.figsize'] = [10, 5]\n",
    "\n",
    "sn.heatmap(cm)"
   ]
  },
  {
   "cell_type": "code",
   "execution_count": 9,
   "metadata": {},
   "outputs": [
    {
     "name": "stdout",
     "output_type": "stream",
     "text": [
      "0.8982002249718786\n"
     ]
    },
    {
     "name": "stderr",
     "output_type": "stream",
     "text": [
      "c:\\users\\cresp\\appdata\\local\\programs\\python\\python36\\lib\\site-packages\\sklearn\\metrics\\classification.py:1137: UndefinedMetricWarning: Recall is ill-defined and being set to 0.0 in labels with no true samples.\n",
      "  'recall', 'true', average, warn_for)\n"
     ]
    },
    {
     "name": "stdout",
     "output_type": "stream",
     "text": [
      "0.8982002249718786\n",
      "0.7626503594914829\n"
     ]
    }
   ],
   "source": [
    "print(accuracy(corpus_advs, tagged))\n",
    "print(recall(corpus_advs, tagged))\n",
    "print(precision(corpus_advs, tagged))"
   ]
  }
 ],
 "metadata": {
  "kernelspec": {
   "display_name": "Python 3",
   "language": "python",
   "name": "python3"
  },
  "language_info": {
   "codemirror_mode": {
    "name": "ipython",
    "version": 3
   },
   "file_extension": ".py",
   "mimetype": "text/x-python",
   "name": "python",
   "nbconvert_exporter": "python",
   "pygments_lexer": "ipython3",
   "version": "3.6.5"
  }
 },
 "nbformat": 4,
 "nbformat_minor": 2
}
